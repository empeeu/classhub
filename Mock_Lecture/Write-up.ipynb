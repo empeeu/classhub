{
 "metadata": {
  "name": "",
  "signature": "sha256:d4674230bcfc722424a6812a05d8fd9561666ec32bd2ffd3b1beb0f8c625b415"
 },
 "nbformat": 3,
 "nbformat_minor": 0,
 "worksheets": [
  {
   "cells": [
    {
     "cell_type": "heading",
     "level": 1,
     "metadata": {},
     "source": [
      "Class Hub Website"
     ]
    },
    {
     "cell_type": "heading",
     "level": 2,
     "metadata": {},
     "source": [
      "Motivation"
     ]
    },
    {
     "cell_type": "markdown",
     "metadata": {},
     "source": [
      "The ClassHub website aims to improve education by allocating instructor resources away from preparing lecture material and towards active learning. ClassHub provides freely available open source lecture material that can be freely distributed, edited, and collectively improved. The basic premise complements the concept of a 'flipped classroom,' where students are assigned to review the lecture material outside of the classroom, while problems are worked during class time. Without needing to spend time preparing lecture material, instructors will have a better opportunity to directly interact with students as they are learning the material, and it also allows more time for an instructor to fairly evaluate a student's grasp of the materials. While ClassHub is designed for the flipped classroom, the lecture resources are also a time-saver for instructors in traditional classrooms. "
     ]
    }
   ],
   "metadata": {}
  }
 ]
}