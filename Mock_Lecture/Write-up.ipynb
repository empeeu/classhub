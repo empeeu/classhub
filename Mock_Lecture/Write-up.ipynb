{
 "metadata": {
  "name": "",
  "signature": "sha256:ae0df14da6cabf0ce4ad878b694d8d1357dd56b64fd01839d5bf2d4e471d33ce"
 },
 "nbformat": 3,
 "nbformat_minor": 0,
 "worksheets": [
  {
   "cells": [
    {
     "cell_type": "heading",
     "level": 1,
     "metadata": {},
     "source": [
      "Class Hub Website"
     ]
    },
    {
     "cell_type": "heading",
     "level": 2,
     "metadata": {},
     "source": [
      "Motivation"
     ]
    },
    {
     "cell_type": "markdown",
     "metadata": {},
     "source": [
      "The ClassHub website aims to improve education by freeing up an instructor's time to allow for more active learning. ClassHub does this by providing freely-available open source lecture material that can be distributed, edited, and collectively improved. The basic premise complements the concept of a 'flipped classroom,' where students are assigned to review the lecture material outside of the classroom, while problems are worked during class time. Without needing to spend time preparing lecture material, instructors will have a better opportunity to directly interact with students as they are applying newly learned material. Additionally, it also allows more time for an instructor to fairly evaluate a student's grasp of the materials. While ClassHub is designed for the flipped classroom, the lecture resources are also a time-saver for instructors in traditional classrooms. Finally, as this is an open framework, it allows the possibility for students to connect with professionals in academia and industry by solving real-world problems related to their learning. "
     ]
    },
    {
     "cell_type": "heading",
     "level": 2,
     "metadata": {},
     "source": [
      "Benefits"
     ]
    },
    {
     "cell_type": "markdown",
     "metadata": {},
     "source": [
      "Potential benefits of this resource for students include:\n",
      "* More accurate, consistent, and useful lecture notes\n",
      "* Better, more instructive examples\n",
      "* Better, more challenging and relevant problems\n",
      "* More opportunity to ask for help from instructor\n",
      "* An opportunity to learn from the community and peers through a comment system\n",
      "* An opportunity to prove their grasp of the material, and earn a fair evaluation\n",
      "\n",
      "Potential benefits to the instructors include:\n",
      "* Less time preparing lectures and lecture notes\n",
      "* More time to spend with students who ask questions that an expert won't ask -- and this can lead to new ideas\n",
      "* An opportunity to evaluate students directly, without necessarily relying on tests\n",
      "* Potentially less time spent grading, if problem sets are completed through ClassHub\n",
      "* An opportunity to reach a much larger student population by contributing to lecture notes, examples, and problems\n",
      "\n",
      "Other potential benefits include:\n",
      "* Lectures containing proven and tested (through research) examples and structure that promote learning\n",
      "* Better-educated professionals\n",
      "* Lower cost of education\n",
      "* More motivated students and instructors\n",
      "* Connecting students and professionals\n",
      "* Company crowd-sourcing students for problem solutions\n",
      "* Access to anyone in the world to the material needed to learn a topic"
     ]
    },
    {
     "cell_type": "heading",
     "level": 2,
     "metadata": {},
     "source": [
      "The Rant"
     ]
    },
    {
     "cell_type": "markdown",
     "metadata": {},
     "source": [
      "Education is broken. This is recognized by many. There are papers (find refs.) of psychological studies that show the way we teach engineering is the worst way for retention (i.e. learning). It has also been shown that testing and exams do not necessarily correlate with student performance in the workplace. Additionally, companies complain that new engineers don't know anything useful. \n",
      "\n",
      "There has been a shift in education, from a more practical approach to a more theoretical approach. That's fine, but we're not connecting the theory to the practice that well anymore. \n",
      "\n",
      "It is crazy to me that I find mistakes in the lecture notes that a professor has been giving to students for a decade. \n",
      "\n",
      "Solving education is a big problem, but no one knows how to do it. We know the way we are teaching is wrong, but we don't know how to change it. I don't know how to change it either. But, I think this website is a viable tool toward solving the 'education-is-broken' problem. I think the problem is greater than a few people. Therefore, a tool that allows a lot of people to work together to solve the problem is needed. I don't think there is one break-through idea that will solve education. I think it's a lot of small ideas collected for all to benefit is the key. \n",
      "\n",
      "This idea is also not intended to remove the instructor completely from the learning process. Instead, it is meant to enhance the role of the instructor. Nowadays anyone can go online and look at a lecture for a specific topic (in case your instructor has terrible presentation skills). But, that static video does not allow the opportunity for someone to clarify ideas, or ask what-if questions. I do not believe that there will be a magic set of master lecture notes that will answer all the doubts of all the students. How people learn depends heavily on their backgrounds, personal experience, and way of thinking. However, I do think that there can be a universal set of notes, backed by researched, that can clear up the majority of common misconceptions. "
     ]
    },
    {
     "cell_type": "heading",
     "level": 2,
     "metadata": {},
     "source": [
      "Website Mock-up"
     ]
    },
    {
     "cell_type": "markdown",
     "metadata": {},
     "source": [
      "In this section I will present my vision for what the first version of the website will look like. There are three types of users that will experience the material differently, and so I will present three views of the site. The first view will be from a student's perspective, the second from an instructor, and the third from a user with an interest in a topic. "
     ]
    },
    {
     "cell_type": "heading",
     "level": 3,
     "metadata": {},
     "source": [
      "Student Perspective"
     ]
    },
    {
     "cell_type": "markdown",
     "metadata": {},
     "source": [
      "Consider a student of single-variable calculus. This person is fresh out of high-school, enrolled in an engineering program, and is taking their first higher-level math course at a college. The first lecture is on the Derivative, and an example of the lecture can be seen here: [Derivatives](Derivatives.ipynb). *This lecture is built on top of an IPython Notebook, which allows a mixture of mark-up text, and live examples using python code. IPython Notebooks do not currently have all the features described next, but they serve as a good starting point.* \n",
      "\n",
      "During the first lecture, the instructor deals primarily with administration related to the course. Part of the adminstration includes helping students access all future lectures, as part of the flipped classroom. This includes creating an institution-wide login and username that can access the ClassHub web resource. As part of the homework, the student is assigned to review the lecture on derivatives. Then, it is also made clear that students will be expected to solve problems during the next lecture, potentially with a quiz (students do need motivation). \n",
      "\n",
      "At home, the student navigates to the *Classroom* created by the lecturer for this particular class. There they find the [Derivatives](Derivatives.ipynb) lecture an click on it. They are presented with a slide-show style presentation of the [Derivatives](Derivatives.ipynb) lecture (Figure 1). This is not just your average slide show however, as it includes interactive examples, a place to ask questions and make comments.  \n",
      "\n",
      "<img src=\"img/Student_1.png\" />\n",
      "**Figure 1:** Students can watch a slideshow of the lecture."
     ]
    },
    {
     "cell_type": "markdown",
     "metadata": {},
     "source": [
      "When the slideshow is started, audio plays to talk the student through the lecture, with various parts of the lecture highlighted to bring attention to them (Figure 2). This narration can either be done by the student's specific instructor, or another source such as a different instructor or a text-to-speech software program. \n",
      "\n",
      "<img src=\"img/Student_2.png\" />\n",
      "**Figure 2:** Annotations and highlights connect the audio and visual presentations."
     ]
    },
    {
     "cell_type": "markdown",
     "metadata": {},
     "source": [
      "If a student gets to a point where they are confused, they can click on the section and ask a question (Figure 3). Others in the class are allowed to see the questions of their peers, unless anonimity has been selected, in which case only the instructor can see the question. Either way, the number of questions asked at each point in the lecture is recorded in the comment box. Additionally, students can browse for the question and comments of other people who have previously used those lecture notes, and they can potentially find the answer to their question in those comments. \n",
      "\n",
      "<img src=\"img/Student_3.png\" />\n",
      "**Figure 3:** Students can ask questions while reviewing the lecture material"
     ]
    },
    {
     "cell_type": "markdown",
     "metadata": {},
     "source": [
      "If an instructor chooses to do so, they can include live code with their lecture materials that can be modified by students to explore the effect of 'what-if' scenarios (Figure 4).  "
     ]
    }
   ],
   "metadata": {}
  }
 ]
}