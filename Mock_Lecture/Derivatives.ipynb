{
 "metadata": {
  "name": "",
  "signature": "sha256:798f35a71e882cadc6d8b40af34423e337f20ea92086baa86818b76d5352858c"
 },
 "nbformat": 3,
 "nbformat_minor": 0,
 "worksheets": [
  {
   "cells": [
    {
     "cell_type": "heading",
     "level": 1,
     "metadata": {},
     "source": [
      "Lecture 1: Derivatives, Slope, Velocity, and rate of Change\n"
     ]
    },
    {
     "cell_type": "heading",
     "level": 2,
     "metadata": {},
     "source": [
      "Geometric Viewpoint on Derivatives"
     ]
    },
    {
     "cell_type": "code",
     "collapsed": false,
     "input": [
      "#Setting up the notebook plotting attributes\n",
      "%matplotlib inline\n",
      "import matplotlib\n",
      "matplotlib.rc('lines', linewidth=2, markersize=20)\n",
      "matplotlib.rc('font', size=20)\n",
      "matplotlib.rc('legend', fontsize=16)\n",
      "\n",
      "from mpl_centered_spines import center_spines"
     ],
     "language": "python",
     "metadata": {},
     "outputs": []
    },
    {
     "cell_type": "code",
     "collapsed": false,
     "input": [
      "import matplotlib.pyplot as plt\n",
      "import numpy as np\n",
      "f = lambda x: x ** 2\n",
      "df = lambda x0: x0 * 2 \n",
      "y = lambda x, x0: (x - x0) * df(x0) + f(x0)\n",
      "x0 = 5\n",
      "x = np.linspace(0, x0*2 + 1)\n",
      "plt.plot(x, f(x), 'k', label='$f(x)$')\n",
      "plt.plot(x, y(x, x0), 'r', label=\"Tangent Line\")\n",
      "plt.plot([x0, 2 * x0], [f(x0), f(2 * x0)], '.--b', label=\"Secant line\")\n",
      "plt.legend(loc=0)\n",
      "ax = plt.gca()\n",
      "center_spines(ax)\n",
      "ax.set_xticks([x0, 2 * x0])\n",
      "ax.set_xticklabels(['$x$', '$x + \\Delta x$'])\n",
      "ax.set_yticks([0, x0**2])\n",
      "ax.set_yticklabels(['$0$', '$y$'])\n",
      "plt.show()"
     ],
     "language": "python",
     "metadata": {},
     "outputs": []
    },
    {
     "cell_type": "heading",
     "level": 5,
     "metadata": {},
     "source": [
      "Figure 1: A funciton with secant and tangent lines"
     ]
    },
    {
     "cell_type": "markdown",
     "metadata": {},
     "source": [
      "---\n",
      "The derivative is the slope of the line tangetn to the graph of $f(x)$. But what is a tangent line, exactly?\n",
      "\n",
      "* It is NOT just aline that meets the graph at one point.\n",
      "* It is the *limit* of the secant line (a line drawn between two points on the graph) as the distance between the two points goes to zero."
     ]
    },
    {
     "cell_type": "heading",
     "level": 3,
     "metadata": {},
     "source": [
      "Geometric definition of the derivative:"
     ]
    },
    {
     "cell_type": "markdown",
     "metadata": {},
     "source": [
      "Limit of slopes of secant lines $PQ$ as $Q \\to P$ ($P$ fixed). The slope of $\\overline{PQ}$:\n",
      "\n",
      "<img src=\"files/fig2.png\">\n",
      "\n",
      "    \n"
     ]
    },
    {
     "cell_type": "heading",
     "level": 5,
     "metadata": {},
     "source": [
      "Figure 2: Geometric definition of the derivative"
     ]
    },
    {
     "cell_type": "markdown",
     "metadata": {},
     "source": [
      "\\begin{align} \\lim_{\\Delta x \\to 0} &= \\lim_{\\Delta x \\to 0} \\underbrace{\\frac{f(x_0+\\Delta x) - f(x_0)}{\\Delta x}}_\\text{\"difference quotient\"} &= \\underbrace{f'(x_0)  }_{\\text{\"derivative of } f \\text{ at }x_0\\text{''}}\n",
      "\\end{align}"
     ]
    },
    {
     "cell_type": "heading",
     "level": 3,
     "metadata": {},
     "source": [
      "Example 1. $f(x) = \\frac{1}{x}$"
     ]
    },
    {
     "cell_type": "markdown",
     "metadata": {},
     "source": [
      "One thing to keep in mind when working with derivatives: it may be tempting to plug in $\\Delta x = 0$ right away. If you do this, however, you will always end up with $\\frac{\\Delta f}{\\Delta x} = \\frac{0}{0}$. You will always need to do some cancellation to get at the answer. \n",
      "\n",
      "\\begin{align}\n",
      "\\frac{\\Delta f}{\\Delta x} &= \\frac{\\frac{1}{x_0 + \\Delta x} - \\frac{1}{x_0}}{\\Delta x} \n",
      "    &= \\frac{1}{\\Delta x} \\left[\\frac{x_0 - (x_0 + \\Delta x)}{(x_0+\\Delta x)x_0} \\right] \n",
      "    &= \\frac{1}{\\Delta x} \\left[\\frac{- \\Delta x}{(x_0+\\Delta x)x_0} \\right] \n",
      "    &= \\frac{-1}{(x_0+\\Delta x)x_0} \n",
      "\\end{align}\n",
      "Taking the limit as $\\Delta x \\to 0$,\n",
      "\\begin{align}\n",
      "\\lim_{\\Delta x \\to 0} \\frac{-1}{(x_0+\\Delta x)x_0} = \\frac{-1}{x_0^2}\n",
      "\\end{align}"
     ]
    },
    {
     "cell_type": "code",
     "collapsed": false,
     "input": [
      "x0 = 0.4"
     ],
     "language": "python",
     "metadata": {},
     "outputs": []
    },
    {
     "cell_type": "code",
     "collapsed": false,
     "input": [
      "f = lambda x: 1 / x;df = lambda x0: -1 / x0 **2;y = lambda x, x0: (x - x0) * df(x0) + f(x0);x = np.linspace(0, 1);plt.plot(x[1:], f(x[1:]), 'k', label='$f(x)=1/x$');plt.plot(x, y(x, x0), 'r--', label=\"Tangent Line\");plt.plot(x0, y(x0, x0), 'r.');ax = plt.gca();center_spines(ax);ax.set_xticks([0.3]);ax.set_xticklabels(['$x_0$']);ax.set_yticks([f(x0)]);ax.set_yticklabels(['$y_0$']);plt.ylim(0, 8);plt.legend();plt.show()"
     ],
     "language": "python",
     "metadata": {},
     "outputs": []
    },
    {
     "cell_type": "heading",
     "level": 5,
     "metadata": {},
     "source": [
      "Figure 3: Graph of $\\frac{1}{x}$"
     ]
    },
    {
     "cell_type": "markdown",
     "metadata": {},
     "source": [
      "Hence, \n",
      "\n",
      "$$f'(x_0) = \\frac{-1}{x^2} $$\n",
      "\n",
      "Notice that $f'(x_0)$ is negative -- as is the slope of the tangent line on the graph in **Figure 3**. "
     ]
    },
    {
     "cell_type": "heading",
     "level": 3,
     "metadata": {},
     "source": [
      "Finding the tangent line."
     ]
    },
    {
     "cell_type": "markdown",
     "metadata": {},
     "source": [
      "Write the equation for the tangent line at the point $(x_0, y_0)$ using the equation for a line, which you all learned in high school algebra: \n",
      "\n",
      "$$y - y_0 = f'(x_0)(x - x_0)$$\n",
      "\n",
      "Plug in $y_0 = f(x_0)=\\frac{1}{x_0}$ and f'(x_0)=\\frac{-1}{x_0^2}$ to get: \n",
      "\n",
      "$$y - \\frac{1}{x_0} = \\frac{-1}{x_0^2}(x-x_0)$$"
     ]
    },
    {
     "cell_type": "code",
     "collapsed": false,
     "input": [
      "plt.plot(x[1:], f(x[1:]), 'k', label='$f(x)=1/x$')\n",
      "plt.plot(x, y(x, x0), 'r--', label=\"Tangent Line\")\n",
      "plt.plot(x0, y(x0, x0), 'r.')\n",
      "ax = plt.gca()\n",
      "center_spines(ax)\n",
      "ax.set_xticks([0.3])\n",
      "ax.set_xticklabels(['$x_0$'])\n",
      "ax.set_yticks([f(x0)])\n",
      "ax.set_yticklabels(['$y_0$'])\n",
      "ax.fill_between(x, 0, y(x, x0), facecolor='grey')\n",
      "plt.ylim(0, 8)\n",
      "plt.legend()\n",
      "plt.show()"
     ],
     "language": "python",
     "metadata": {},
     "outputs": []
    },
    {
     "cell_type": "heading",
     "level": 5,
     "metadata": {},
     "source": [
      "Figure 4: Graph of $\\frac{1}{x}$"
     ]
    },
    {
     "cell_type": "markdown",
     "metadata": {},
     "source": [
      "Just for fun, let's compute the area of the triangle that the tangent line forms withthe x- and y-axes (see the shaded region in **Figure 4**). \n",
      "\n",
      "First calculate the x-intercept of this tangent line. The x-intercept is where $y=0$. Plug $y=0$ into the equation for this tangent line to get:\n",
      "\n",
      "\\begin{align}\n",
      "0 - \\frac{1}{x_0} &=\\frac{-1}{x_0^2}(x-x_0) \\\\\n",
      "\\frac{-1}{x_0} &= \\frac{-1}{x_0^2}x+\\frac{1}{x_0} \\\\\n",
      "\\frac{1}{x_0^2}x &=\\frac{2}{x_0} \\\\\n",
      "\\Rightarrow x &= x_0^2 \\left (\\frac{2}{x_0} \\right) = 2x_0\n",
      "\\end{align}\n",
      "\n",
      "So, the x-intercept of this tangent line is at $x=2x_0$. \n",
      "\n",
      "Next we claim tha the y-intercept is at $y=2y_0$. Since $y=\\frac{1}{x}$ and $x=\\frac{1}{y}$ are identical equations, the graph is symmetric when $x$ and $y$ are exchanged. By symmetry, then, the y-intercept is at $y=2y_0$. If you don't trust reasoning with symmetry, you may follow the same chain of algebraic reasoning that we used in finding the x-intercept. (Remember, the y-intercept is where $x=0$.)\n",
      "\n",
      "Finally, \n",
      "\n",
      "$$\\text{Area} = \\frac{1}{2}(2y_0)(2x_0) = 2x_0y_0 = 2x_0\\left(\\frac{1}{x_0}\\right) = 2 $$ (see **Figure 5**)\n",
      "\n",
      "Curiously, the area of the triangle is *always* 2, no matter where on the graph we draw the tangent line. "
     ]
    },
    {
     "cell_type": "code",
     "collapsed": false,
     "input": [
      "x0 = 0.3\n",
      "f = lambda x: 1 / x\n",
      "df = lambda x0: -1 / x0 **2\n",
      "y = lambda x, x0: (x - x0) * df(x0) + f(x0)\n",
      "x = np.linspace(0, 1)\n",
      "plt.plot(x[1:], f(x[1:]), 'k', label='$f(x)=1/x$')\n",
      "plt.plot(x, y(x, x0), 'r--', label=\"Tangent Line\")\n",
      "plt.plot(x0, y(x0, x0), 'r.')\n",
      "ax = plt.gca()\n",
      "ax.fill_between(x, 0, y(x, x0), facecolor='grey')\n",
      "center_spines(ax)\n",
      "ax.set_xticks([x0, 2*x0])\n",
      "ax.set_xticklabels(['$x_0$', '$2x_0$'])\n",
      "ax.set_yticks([f(x0), 2*f(x0)])\n",
      "ax.set_yticklabels(['$y_0$', '$2y_0$'])\n",
      "plt.ylim(0, 8)\n",
      "plt.legend()\n",
      "plt.show()"
     ],
     "language": "python",
     "metadata": {},
     "outputs": []
    },
    {
     "cell_type": "heading",
     "level": 4,
     "metadata": {},
     "source": [
      "Figure 5: Graph of $\\frac{1}{x}$"
     ]
    },
    {
     "cell_type": "heading",
     "level": 3,
     "metadata": {},
     "source": [
      "Notations"
     ]
    },
    {
     "cell_type": "markdown",
     "metadata": {},
     "source": [
      "Calculus, rather like English or any other language, was developed by several people. As a result, just as there are many ways to express the same thing, there are many notations for the derivative. \n",
      "\n",
      "Since $y=f(x)$, it's natural to write\n",
      "\n",
      "$$\\Delta y = \\Delta f = f(x) - f(x_0) = f(x_0 + \\Delta x) - f(x_0)$$\n",
      "\n",
      "We say \"Delta $y$\" or \"Delta $f$\" of the \"change in $y$\". \n",
      "\n",
      "If we divide both sides by $\\Delta x = x-x_0$, we get two expressions for the difference quotient:\n",
      "\n",
      "$$\\frac{\\Delta y}{\\Delta x} = \\frac{\\Delta f}{\\Delta x}$$\n",
      "\n",
      "Taking the limit as $\\Delta x \\to 0$, we get\n",
      "\n",
      "$$\\frac{\\Delta y}{\\Delta x} \\to \\frac{dy}{dx}\\text{ (Leibniz' notation)}$$\n",
      "$$\\frac{\\Delta f}{\\Delta x} \\to f'(x_0)\\text{ (Newton's notation)}$$\n",
      "\n",
      "When you use Leibniz' notation, you have to remember where you're evaluating the derivative -- in the example above, at $x=x_0$. \n",
      "\n",
      "Other, equally valid notations for the derivativ of a funciton $f$ include\n",
      "\n",
      "$$\\frac{fy}{dx}, f', \\text{ and } Df$$\n"
     ]
    },
    {
     "cell_type": "heading",
     "level": 3,
     "metadata": {},
     "source": [
      "Example 2. $f(x) = x^n$ where $n=1, 2, 3, ...$"
     ]
    },
    {
     "cell_type": "markdown",
     "metadata": {},
     "source": [
      "What is $\\frac{d}{dx}x^n$?\n",
      "\n",
      "To find it, plug $y=f(x)$ into the definition of the difference quotient.\n",
      "\n",
      "$$\\frac{\\Delta y}{\\Delta x} = \\frac{(x_0+\\Delta x)^n - x_0^n}{\\Delta x} = \\frac{(x+\\Delta x)^n - x^n}{\\Delta x}$$\n",
      "\n",
      "(From here on, we replace $x_0$ with $x$, so as to have less writing to do.) Since\n",
      "\n",
      "$$(x + \\Delta x)^n = x^n + n(\\Delta x)(x^{n-1}) + O(\\Delta x^2)$$\n",
      "\n",
      "$O(\\Delta x^2)$ is shorthand for \"all of the terms with $(\\Delta x)^2$, $(\\Delta x^3)$, and so on up to $(\\Delta x)^n$.\" (This is part of what is known as the binomial theorem; see your textbook for details.)\n",
      "\n",
      "$$\\frac{\\Delta y}{\\Delta x}= \\frac{(x+\\Delta x)^n - x^n}{\\Delta x} =  \\frac{x^n + n(\\Delta x)(x^{n-1}) + O(\\Delta x^2) - x^n}{\\Delta x} = n x^{n-1} + O(\\Delta x)$$\n",
      "Take the limit:\n",
      "$$\\lim_{\\Delta x \\to 0} \\frac{\\Delta y}{\\Delta x} = nx^{n-1}$$\n",
      "Therefore, \n",
      "$$ \\boxed{\\frac{d}{dx}x^n = nx^{n-1}}$$\n",
      "\n",
      "This result extends to polynomials. For example, \n",
      "$$ \\frac{d}{dx}(x^2+3x^10) = 2x+30x^9$$\n",
      "\n"
     ]
    },
    {
     "cell_type": "heading",
     "level": 2,
     "metadata": {},
     "source": [
      "Physical Interpretation of Derivatives"
     ]
    },
    {
     "cell_type": "markdown",
     "metadata": {},
     "source": [
      "You can think of the derivative as representing a rate of change (speed is one example of this). \n",
      "\n",
      "On Halloween, MIT students have a tradition of dropping pumpkins from the roof of this building, which is about 400 feet high. \n",
      "\n",
      "The equation of motion for objects near the earth's surface (which we will just accept for now) implies that the height above the ground $y$ of the pumpkin is:\n",
      "$$y = 400-16t^2$$\n",
      "The average speed of the pumpkin (difference quotient) = $\\frac{\\Delta y}{\\Delta t} = \\frac{\\text{distance travelled}}{\\text{time elapsed}}$\n",
      "When the pumpkin hits thr groud, $y=0$, \n",
      "$$400-16t^2=0$$\n",
      "Solve to find $t=5$. Thus it takes 5 seconds for the pumpkin to reach the ground.\n",
      "$$\\text{Average speed} = \\frac{400 \\text{ft}}{5\\text{sec}} = 80 \\text{ft/s}$$\n",
      "A spectator is probably more interested in how fast the pumpkin is going when it slams into the ground. To find the instantaneous velocity at $t=5$, let's evaluate $y'$: \n",
      "\n",
      "$$y' = -32t=(-32)(5)=-160\\text{ft/s (about 110mph)}$$\n",
      "\n",
      "$y'$ is negative because the pumpkin's y-coordinate is decreasing: it is moving downward."
     ]
    }
   ],
   "metadata": {}
  }
 ]
}